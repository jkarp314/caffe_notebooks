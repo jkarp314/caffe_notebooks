{
 "cells": [
  {
   "cell_type": "code",
   "execution_count": 1,
   "metadata": {
    "collapsed": false
   },
   "outputs": [],
   "source": [
    "import sys, os\n",
    "import matplotlib\n",
    "import matplotlib.pyplot as plt\n",
    "import numpy as np\n",
    "%matplotlib inline"
   ]
  },
  {
   "cell_type": "code",
   "execution_count": 2,
   "metadata": {
    "collapsed": true
   },
   "outputs": [],
   "source": [
    "import caffe"
   ]
  },
  {
   "cell_type": "code",
   "execution_count": 3,
   "metadata": {
    "collapsed": true
   },
   "outputs": [],
   "source": [
    "caffe.set_device(3)\n",
    "caffe.set_mode_gpu()\n"
   ]
  },
  {
   "cell_type": "code",
   "execution_count": 4,
   "metadata": {
    "collapsed": true
   },
   "outputs": [],
   "source": [
    "solver = caffe.SGDSolver(\"/home/vgenty/caffe/models/ilsvrc_alexnet/solver.prototxt\")"
   ]
  },
  {
   "cell_type": "code",
   "execution_count": 5,
   "metadata": {
    "collapsed": true
   },
   "outputs": [],
   "source": [
    "solver.step(1)"
   ]
  },
  {
   "cell_type": "code",
   "execution_count": null,
   "metadata": {
    "collapsed": false
   },
   "outputs": [],
   "source": [
    "#loss = []\n",
    "#accuracy = []\n",
    "for i in xrange(20000):\n",
    "    check = []\n",
    "    solver.step(1)\n",
    "    loss.append(float(solver.net.blobs['loss'].data))\n",
    "    for j in xrange(64):\n",
    "        truth = int(solver.net.blobs['label'].data[j])\n",
    "        prediction = solver.net.blobs['fc8'].data[j]\n",
    "        if prediction.argmax() == truth:\n",
    "            check.append(1)\n",
    "        else:\n",
    "            check.append(0)\n",
    "    accuracy.append(float(sum(check))/len(check))\n",
    "    if (i%100 == 0):\n",
    "        print i"
   ]
  },
  {
   "cell_type": "code",
   "execution_count": 48,
   "metadata": {
    "collapsed": false
   },
   "outputs": [
    {
     "data": {
      "text/plain": [
       "<matplotlib.legend.Legend at 0x7fd91997cf90>"
      ]
     },
     "execution_count": 48,
     "metadata": {},
     "output_type": "execute_result"
    },
    {
     "data": {
      "image/png": "[encoded data removed]",
      "text/plain": [
       "<matplotlib.figure.Figure at 0x7fd919cd6090>"
      ]
     },
     "metadata": {},
     "output_type": "display_data"
    }
   ],
   "source": [
    "plt.plot(loss, label = 'loss')\n",
    "plt.plot(accuracy, label = 'accuracy')\n",
    "plt.legend(loc = 0)"
   ]
  },
  {
   "cell_type": "code",
   "execution_count": 54,
   "metadata": {
    "collapsed": false
   },
   "outputs": [],
   "source": [
    "solver.net.save(\"final_weights\")"
   ]
  },
  {
   "cell_type": "code",
   "execution_count": 49,
   "metadata": {
    "collapsed": false,
    "scrolled": false
   },
   "outputs": [
    {
     "name": "stdout",
     "output_type": "stream",
     "text": [
      "30 30.0\n",
      "38 38.0\n",
      "39 39.0\n",
      "28 28.0\n",
      "33 33.0\n",
      "36 36.0\n",
      "9 9.0\n",
      "15 15.0\n",
      "21 21.0\n",
      "41 41.0\n",
      "29 29.0\n",
      "43 43.0\n",
      "2 2.0\n",
      "49 49.0\n",
      "43 43.0\n",
      "27 27.0\n",
      "9 9.0\n",
      "34 34.0\n",
      "44 44.0\n",
      "7 7.0\n",
      "42 42.0\n",
      "42 42.0\n",
      "7 7.0\n",
      "9 9.0\n",
      "32 32.0\n",
      "34 34.0\n",
      "14 14.0\n",
      "26 26.0\n",
      "1 1.0\n",
      "38 38.0\n",
      "4 4.0\n",
      "10 10.0\n",
      "5 5.0\n",
      "21 21.0\n",
      "48 48.0\n",
      "39 39.0\n",
      "3 3.0\n",
      "19 19.0\n",
      "7 7.0\n",
      "43 43.0\n",
      "3 3.0\n",
      "30 30.0\n",
      "5 5.0\n",
      "14 14.0\n",
      "4 4.0\n",
      "37 37.0\n",
      "37 37.0\n",
      "24 24.0\n",
      "31 31.0\n",
      "21 21.0\n",
      "3 3.0\n",
      "40 40.0\n",
      "29 29.0\n",
      "29 29.0\n",
      "20 20.0\n",
      "16 16.0\n",
      "33 33.0\n",
      "48 48.0\n",
      "48 48.0\n",
      "29 29.0\n",
      "18 18.0\n",
      "31 31.0\n",
      "31 31.0\n",
      "6 6.0\n",
      "44 44.0\n",
      "24 24.0\n",
      "31 31.0\n",
      "18 18.0\n",
      "9 9.0\n",
      "1 1.0\n",
      "5 5.0\n",
      "32 32.0\n",
      "11 11.0\n",
      "46 46.0\n",
      "25 25.0\n",
      "49 49.0\n",
      "30 30.0\n",
      "10 10.0\n",
      "44 44.0\n",
      "35 35.0\n",
      "48 48.0\n",
      "18 18.0\n",
      "14 14.0\n",
      "7 7.0\n",
      "14 14.0\n",
      "9 9.0\n",
      "13 13.0\n",
      "21 21.0\n",
      "17 17.0\n",
      "32 32.0\n",
      "41 41.0\n",
      "25 25.0\n",
      "36 36.0\n",
      "48 48.0\n",
      "29 29.0\n",
      "41 41.0\n",
      "48 48.0\n",
      "49 49.0\n",
      "0 0.0\n",
      "30 30.0\n"
     ]
    }
   ],
   "source": [
    "solver.step(1)\n",
    "\n",
    "for i in xrange(100):\n",
    "    #plt.imshow(solver.net.blobs['data'].data[i][0],cmap=\"Greys_r\")\n",
    "    #plt.show()\n",
    "    print solver.net.blobs['fc8'].data[i].argmax(), solver.net.blobs['label'].data[i]\n",
    "\n"
   ]
  },
  {
   "cell_type": "code",
   "execution_count": null,
   "metadata": {
    "collapsed": true
   },
   "outputs": [],
   "source": []
  }
 ],
 "metadata": {
  "kernelspec": {
   "display_name": "Python 2",
   "language": "python",
   "name": "python2"
  },
  "language_info": {
   "codemirror_mode": {
    "name": "ipython",
    "version": 2
   },
   "file_extension": ".py",
   "mimetype": "text/x-python",
   "name": "python",
   "nbconvert_exporter": "python",
   "pygments_lexer": "ipython2",
   "version": "2.7.6"
  }
 },
 "nbformat": 4,
 "nbformat_minor": 0
}
